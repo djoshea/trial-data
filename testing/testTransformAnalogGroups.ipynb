{
 "cells": [
  {
   "cell_type": "code",
   "execution_count": null,
   "metadata": {},
   "outputs": [],
   "source": [
    "addpath ~/npl\n",
    "startupJupyter"
   ]
  },
  {
   "cell_type": "code",
   "execution_count": null,
   "metadata": {},
   "outputs": [],
   "source": [
    "td = TrialData.loadFast('~/data/thirst/runs/stitchSubpop_lfadsDataFinal_v06/export_trialData/td_nos1m41_20171202_alldata')"
   ]
  },
  {
   "cell_type": "code",
   "execution_count": 2,
   "metadata": {},
   "outputs": [
    {
     "name": "stdout",
     "output_type": "stream",
     "text": [
      "Undefined variable \"td\" or class \"td.getAnalogChannelGroupSize\".\n"
     ]
    }
   ],
   "source": [
    "outSize = td.getAnalogChannelGroupSize('factors');\n",
    "tdo = td.addAnalogChannelGroupTransform('test', 'factors', @(x) mean(x, 2), outSize);"
   ]
  },
  {
   "cell_type": "code",
   "execution_count": 11,
   "metadata": {},
   "outputs": [
    {
     "name": "stdout",
     "output_type": "stream",
     "text": [
      "\n",
      "ans =\n",
      "\n",
      "    36\n",
      "\n"
     ]
    }
   ],
   "source": [
    "td.getAnalogChannelGroupSize('factors')"
   ]
  },
  {
   "cell_type": "code",
   "execution_count": 25,
   "metadata": {},
   "outputs": [
    {
     "name": "stdout",
     "output_type": "stream",
     "text": [
      "\n",
      "tdo = \n",
      "\n",
      "\u001b[0;33mTrialDataConditionAlign: \u001b[0m222 trials (222 valid) with 30 channels\u001b[0m\n",
      "\u001b[0;33mConditionInfo: \u001b[0m2 conditions\u001b[0m\n",
      "\u001b[0m  \u001b[1;34mAttributes:\u001b[0m\n",
      "\u001b[0m    \u001b[0;35modorType \u001b[1;30m(@2\u001b[1;31m filter\u001b[1;30m): \u001b[1;37mGo, No Go\u001b[0m\n",
      "\u001b[0m  \u001b[1;34mAxes:\u001b[0m\n",
      "\u001b[0m    \u001b[0;35modorType \u001b[1;30m(2 auto\u001b[1;39m): \u001b[1;37mGo, No Go\u001b[0m\n",
      "\u001b[0;33mAlignInfo: \u001b[0;31m(active)\u001b[0m\n",
      "\u001b[0m  \u001b[1;34mStart \u001b[0;35mTrialStart \u001b[1;30mas \u001b[1;37mTrial Start\u001b[0m\n",
      "\u001b[0m  \u001b[1;34mStop \u001b[0;35mTrialEnd \u001b[1;30mas \u001b[1;37mTrial End\u001b[0m\n",
      "\u001b[0m  \u001b[1;34mZero \u001b[0;35mTimeZero \u001b[1;30mas \u001b[1;37mTime Zero\u001b[0m\n",
      "\u001b[0m  \u001b[1;34mMark \u001b[0;35mLick \u001b[1;30mas \u001b[1;37mLick\u001b[0m\n",
      "\u001b[0m  \u001b[1;34mInterval \u001b[0;35mOdor(:) : OdorOffset(:)\u001b[1;30m as \u001b[1;37mOdor\u001b[0m\n",
      "\u001b[0m  \u001b[1;34mInterval \u001b[0;35mReward(:) : RewardOffset(:)\u001b[1;30m as \u001b[1;37mReward\u001b[0m\n",
      "\u001b[0m  \u001b[1;30moutside trial mode \u001b[1;37mtruncate\u001b[0m\n",
      "\u001b[0m  \u001b[1;30mminimum duration \u001b[1;37m0\u001b[0m\n",
      "\u001b[0m  \u001b[1;30mround times with min delta \u001b[1;37m1\u001b[0m\n",
      "\n",
      "\u001b[0;33mParam: \u001b[0modorType, post_g0_logvar, post_g0_mean, protocol, protocolVersion, saveTag, session, subject, timeStartWallclock, trialId\u001b[0m\n",
      "\u001b[0;33mEvent: \u001b[0mLick, Odor, OdorOffset, Reward, RewardOffset, StimPulse, TrialEnd, TrialStart\u001b[0m\n",
      "\u001b[0;33mAnalog: \u001b[0m\u001b[0m\n",
      "\u001b[0m  \u001b[1;34mbehavior\u001b[0m (5): {odor1, odor2, reward, lick, stim}\u001b[0m\n",
      "\u001b[0m  \u001b[1;34mcontrollerOutputs \u001b[0m(6)\u001b[0m\n",
      "\u001b[0m  \u001b[1;34mfactors \u001b[0m(36)\u001b[0m\n",
      "\u001b[0m  \u001b[1;34mgeneratorStates \u001b[0m(100)\u001b[0m\n",
      "\u001b[0m  \u001b[1;34mneural \u001b[0m(252)\u001b[0m\n",
      "\u001b[0m  \u001b[1;34mrates \u001b[0m(251)\u001b[0m\n",
      "\u001b[0m  \u001b[1;34mtest \u001b[0m(36)\u001b[0m\n",
      "\u001b[0;33mSpike: \u001b[0m\u001b[0m\n",
      "\u001b[0;33mContinuous Neural: \u001b[0m\u001b[0m\n",
      "\u001b[0;33mImage: \u001b[0m\u001b[0m\n",
      "\n"
     ]
    }
   ],
   "source": [
    "tdo"
   ]
  },
  {
   "cell_type": "code",
   "execution_count": 27,
   "metadata": {},
   "outputs": [
    {
     "name": "stdout",
     "output_type": "stream",
     "text": [
      "\n",
      "ans =\n",
      "\n",
      "    -2\n",
      "\n"
     ]
    }
   ],
   "source": [
    "nargin(@(x, varargin) sum(x))"
   ]
  },
  {
   "cell_type": "code",
   "execution_count": 28,
   "metadata": {},
   "outputs": [
    {
     "name": "stdout",
     "output_type": "stream",
     "text": [
      " NARGIN Number of function input arguments.\n",
      "    Inside the body of a user-defined function, NARGIN returns\n",
      "    the number of input arguments that were used to call the\n",
      "    function. \n",
      " \n",
      "    NARGIN(FUN) returns the number of declared inputs for the\n",
      "    function FUN.  The number of arguments is negative if the\n",
      "    function has a variable number of input arguments.  FUN can be \n",
      "    a function handle that maps to a specific function, or a character \n",
      "    vector or string scalar that contains the name of that function.\n",
      " \n",
      "    See also NARGOUT, VARARGIN, NARGINCHK, INPUTNAME, MFILENAME.\n",
      "\n",
      "    Reference page in Doc Center\n",
      "       doc nargin\n",
      "\n",
      "    Other functions named nargin\n",
      "\n",
      "       fittype/nargin    inline/nargin\n",
      "\n"
     ]
    }
   ],
   "source": [
    "help nargin"
   ]
  },
  {
   "cell_type": "code",
   "execution_count": null,
   "metadata": {},
   "outputs": [],
   "source": []
  }
 ],
 "metadata": {
  "kernelspec": {
   "display_name": "iMatlab",
   "language": "matlab",
   "name": "imatlab"
  },
  "language_info": {
   "codemirror_mode": "octave",
   "file_extension": ".m",
   "mimetype": "text/x-matlab",
   "name": "matlab",
   "nbconvert_exporter": "imatlab._exporter.MatlabExporter",
   "pygments_lexer": "matlab",
   "version": "9.5.0.944444 (R2018b)"
  }
 },
 "nbformat": 4,
 "nbformat_minor": 2
}
