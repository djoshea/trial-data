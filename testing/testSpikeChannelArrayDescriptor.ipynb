{
 "cells": [
  {
   "cell_type": "code",
   "execution_count": 2,
   "metadata": {},
   "outputs": [],
   "source": [
    "addpath ~/npl\n",
    "startupJupyter"
   ]
  },
  {
   "cell_type": "code",
   "execution_count": 32,
   "metadata": {},
   "outputs": [],
   "source": [
    "nTrials = 10;\n",
    "nUnits = 5;\n",
    "T = 100;\n",
    "arrayName = 'utahA';\n",
    "\n",
    "z = TrialData.buildEmptyWithTrialDurations(repmat(T, nTrials, 1));"
   ]
  },
  {
   "cell_type": "code",
   "execution_count": 33,
   "metadata": {},
   "outputs": [],
   "source": [
    "electrodes = 1:2:(nUnits*2)-1;\n",
    "units = 2:2:nUnits*2;\n",
    "[spikes, waveforms] = deal(cell(nTrials , nUnits));\n",
    "\n",
    "waveTvec = -10:40;\n",
    "\n",
    "for i = 1:numel(spikes)\n",
    "    spikes{i} = randi(100,2, 1);\n",
    "    waveforms{i} = (waveTvec.^2) + randn(2, 1);\n",
    "end\n",
    "\n",
    "z = z.addSpikeArrayChannel(arrayName, electrodes, units, spikes, ...\n",
    "    'waveforms', waveforms, 'waveformsTime', waveTvec);"
   ]
  },
  {
   "cell_type": "markdown",
   "metadata": {},
   "source": [
    "electrodes = 1:2:(nUnits*2)-1;\n",
    "times = (1:30)';\n",
    "cdata = cell(nTrials , 1);\n",
    "for i = 1:nTrials\n",
    "    cdata{i} = sin(times*2*pi*0.01) + (1:numel(electrodes));\n",
    "end\n",
    "\n",
    "z = z.addContinuousNeuralChannelGroup(sprintf('lfp_%s', arrayName), electrodes, cdata, times);"
   ]
  },
  {
   "cell_type": "code",
   "execution_count": null,
   "metadata": {},
   "outputs": [],
   "source": [
    "% try adding individual continuous neural channels\n",
    "electrodes = 1:2:(nUnits*2)-1;\n",
    "times = (1:30)';\n",
    "cdata = cell(nTrials , 1);\n",
    "for i = 1:nTrials\n",
    "    cdata{i} = sin(times*2*pi*0.01)\n",
    "end\n",
    "\n",
    "for e = 1:numel(electrodes)\n",
    "    z = z.addContinuousNeural(sprintf('lfp_%s_%03d', 'test', e), cdata, times);\n",
    "end"
   ]
  },
  {
   "cell_type": "code",
   "execution_count": 59,
   "metadata": {},
   "outputs": [
    {
     "name": "stdout",
     "output_type": "stream",
     "text": [
      "\n",
      "td = \n",
      "\n",
      "\u001b[0;33mTrialData: \u001b[0m10 trials (10 valid) with 464 channels\u001b[0m\n",
      "\u001b[0;33mDataset: \u001b[0mUmlaut 2017-11-08 ArmDynamics saveTag 1\u001b[0m\n",
      "\n",
      "\u001b[0;33mParam: \u001b[0mallowReacquireCenter, allowReacquireTarget, autoMoveToCenter, blockId, centerSize, centerX, centerY, conditionDesc, conditionId, conditionProportion, constantForceFieldDirection, constantForceFieldMagnitude, cursorJumpDistance, cursorJumpLocationFractional, cursorJumpOffsetX, cursorJumpOffsetY, cursorOffsetApplied, decelerationThreshRatio, delay, delayAfterMaxPeakVelocityFail, delayAfterMinPeakVelocityFail, delayNominal, delayRangeLongMax, delayRangeLongMin, delayRangeMax, delayRangeMin, delayRangeShortMax, delayRangeShortMin, delayVibrateSigma, disallowDoubleAcceleration, disallowLateralDeviation, distanceTowardsTargetThresh, enforceMaxPeakVelocity, enforceMinPeakVelocity, failOnMissedTarget, failureCode, fracShortDelay, fracZeroDelay, handMissedTargetMargin, handSource, hapticCursorDiameter, hasMissedTarget, hasNeuralContinuousData, hasNeuralSpikeData, hasTargetL, hasTargetR, holdWindowCenter, holdWindowTarget, inactiveTargetContrast, isCenterOut, isIsometric, isMiscueTrial, iti, itiFailure, itiSuccess, jumpTargetAcceptanceWidth, jumpTargetDepth, jumpTargetTheta, jumpTargetWidth, jumpTargetX, jumpTargetY, manualHoldDuringDelay, maxPeakVelocityTowardsTarget, maxZOffScreenPlane, minPeakVelocityTowardsTarget, nevMerged, nevMergedFile, obstacleCollisionPermitted, perturb, perturbAngleRelativeToReach, perturbDirection, perturbDirectionName, perturbDirectionX, perturbDirectionY, perturbDirectionZ, perturbDuration, perturbLate, perturbMagnitude, perturbMagnitudeName, perturbOffsetFromEvent, perturbOrthogonal, perturbRelativeToEvent, perturbTiming, perturbType, protocol, protocolVersion, purgatoryConsecutiveNoStarts, purgatoryTime, purgatoryTimeAfterHandleReleased, reaccelerationThreshDelta, repeatUntilSuccess, rt, rtMax, rtMin, saveTag, simulatedDragX, simulatedDragY, simulatedMassLevel, simulatedMassX, simulatedMassY, subject, substantiveFailure, success, targetAcceptanceWidth, targetDepth, targetDirection, targetDirectionName, targetDistance, targetJump, targetJumpDistance, targetJumpLocationFractional, targetJumpOffsetFromEvent, targetJumpRelativeToEvent, targetPlanarStop, targetPointsDisplayX, targetPointsDisplayY, targetPointsHapticX, targetPointsHapticY, targetShiftPostPerturbation, targetTheta, targetViscosity, targetWidth, targetX, targetY, threshAcceleration, threshLateralVelocity, timeCenterAcquire, timeCenterHold, timeCenterSettle, timeFailureFeedback, timeJuice, timeJuiceAccuracyMultiplier, timeJuiceCenter, timeJuiceHitObstacle, timeObstacleOnsetBeforeTarget, timeRewardFeedback, timeStartWallclock, timeTargetAcquire, timeTargetHold, timeTargetSettle, trialCategory, trialId, velDepForceAngle, velDepForceGain, velocityTowardsTargetThresh, visualPerturbationType\u001b[0m\n",
      "\u001b[0;33mEvent: \u001b[0mCenterAcquired, CenterHeld, CenterOnset, CenterSettled, FailureBrokeCenterHold, FailureBrokeCenterHoldDelay, FailureHapticReleased, FailureHitWorkspaceEdge, FailureRTTooFast, FailureRTTooSlow, FailureToAcquireCenter, FailureToAcquireTarget, GoCue, GoCueCommand, HapticPerturbation, HapticPerturbationOption, MoveOnsetOnline, MoveOnsetThresh, Success, TargetAcquired, TargetHeld, TargetOnset, TargetOnsetCommand, TargetSettled, TargetUnacquire, TrialEnd, TrialStart\u001b[0m\n",
      "\u001b[0;33mAnalog: \u001b[0m\u001b[0m\n",
      "\u001b[0m  \u001b[1;34manalog\u001b[0m (1): photoboxRaw\u001b[0m\n",
      "\u001b[0m  \u001b[1;34manalog_logical\u001b[0m (1): photobox\u001b[0m\n",
      "\u001b[0;33mSpike: \u001b[0m \u001b[0m\u001b[0mM1L01_0\u001b[1;34m+w\u001b[0m, M1L02_0\u001b[1;34m+w\u001b[0m, M1L03_0\u001b[1;34m+w\u001b[0m, M1L04_0\u001b[1;34m+w\u001b[0m, M1L05_0\u001b[1;34m+w\u001b[0m, M1L06_0\u001b[1;34m+w\u001b[0m, M1L07_0\u001b[1;34m+w\u001b[0m, M1L08_0\u001b[1;34m+w\u001b[0m, M1L09_0\u001b[1;34m+w\u001b[0m, M1L10_0\u001b[1;34m+w\u001b[0m, M1L11_0\u001b[1;34m+w\u001b[0m, M1L12_0\u001b[1;34m+w\u001b[0m, M1L13_0\u001b[1;34m+w\u001b[0m, M1L14_0\u001b[1;34m+w\u001b[0m, M1L15_0\u001b[1;34m+w\u001b[0m, M1L16_0\u001b[1;34m+w\u001b[0m, M1L17_0\u001b[1;34m+w\u001b[0m, M1L18_0\u001b[1;34m+w\u001b[0m, M1L19_0\u001b[1;34m+w\u001b[0m, M1L20_0\u001b[1;34m+w\u001b[0m, M1L21_0\u001b[1;34m+w\u001b[0m, M1L22_0\u001b[1;34m+w\u001b[0m, M1L23_0\u001b[1;34m+w\u001b[0m, M1L24_0\u001b[1;34m+w\u001b[0m, M1L25_0\u001b[1;34m+w\u001b[0m, M1L26_0\u001b[1;34m+w\u001b[0m, M1L27_0\u001b[1;34m+w\u001b[0m, M1L28_0\u001b[1;34m+w\u001b[0m, M1L29_0\u001b[1;34m+w\u001b[0m, M1L30_0\u001b[1;34m+w\u001b[0m, M1L31_0\u001b[1;34m+w\u001b[0m, M1L32_0\u001b[1;34m+w\u001b[0m, M1L33_0\u001b[1;34m+w\u001b[0m, M1L34_0\u001b[1;34m+w\u001b[0m, M1L35_0\u001b[1;34m+w\u001b[0m, M1L36_0\u001b[1;34m+w\u001b[0m, M1L37_0\u001b[1;34m+w\u001b[0m, M1L38_0\u001b[1;34m+w\u001b[0m, M1L39_0\u001b[1;34m+w\u001b[0m, M1L40_0\u001b[1;34m+w\u001b[0m, M1L41_0\u001b[1;34m+w\u001b[0m, M1L42_0\u001b[1;34m+w\u001b[0m, M1L43_0\u001b[1;34m+w\u001b[0m, M1L44_0\u001b[1;34m+w\u001b[0m, M1L45_0\u001b[1;34m+w\u001b[0m, M1L46_0\u001b[1;34m+w\u001b[0m, M1L47_0\u001b[1;34m+w\u001b[0m, M1L48_0\u001b[1;34m+w\u001b[0m, M1L49_0\u001b[1;34m+w\u001b[0m, M1L50_0\u001b[1;34m+w\u001b[0m, M1L51_0\u001b[1;34m+w\u001b[0m, M1L52_0\u001b[1;34m+w\u001b[0m, M1L53_0\u001b[1;34m+w\u001b[0m, M1L54_0\u001b[1;34m+w\u001b[0m, M1L55_0\u001b[1;34m+w\u001b[0m, M1L56_0\u001b[1;34m+w\u001b[0m, M1L57_0\u001b[1;34m+w\u001b[0m, M1L58_0\u001b[1;34m+w\u001b[0m, M1L59_0\u001b[1;34m+w\u001b[0m, M1L60_0\u001b[1;34m+w\u001b[0m, M1L61_0\u001b[1;34m+w\u001b[0m, M1L62_0\u001b[1;34m+w\u001b[0m, M1L63_0\u001b[1;34m+w\u001b[0m, M1L64_0\u001b[1;34m+w\u001b[0m, M1L65_0\u001b[1;34m+w\u001b[0m, M1L66_0\u001b[1;34m+w\u001b[0m, M1L67_0\u001b[1;34m+w\u001b[0m, M1L68_0\u001b[1;34m+w\u001b[0m, M1L69_0\u001b[1;34m+w\u001b[0m, M1L70_0\u001b[1;34m+w\u001b[0m, M1L71_0\u001b[1;34m+w\u001b[0m, M1L72_0\u001b[1;34m+w\u001b[0m, M1L73_0\u001b[1;34m+w\u001b[0m, M1L74_0\u001b[1;34m+w\u001b[0m, M1L75_0\u001b[1;34m+w\u001b[0m, M1L76_0\u001b[1;34m+w\u001b[0m, M1L77_0\u001b[1;34m+w\u001b[0m, M1L78_0\u001b[1;34m+w\u001b[0m, M1L79_0\u001b[1;34m+w\u001b[0m, M1L80_0\u001b[1;34m+w\u001b[0m, M1L81_0\u001b[1;34m+w\u001b[0m, M1L82_0\u001b[1;34m+w\u001b[0m, M1L83_0\u001b[1;34m+w\u001b[0m, M1L84_0\u001b[1;34m+w\u001b[0m, M1L85_0\u001b[1;34m+w\u001b[0m, M1L86_0\u001b[1;34m+w\u001b[0m, M1L87_0\u001b[1;34m+w\u001b[0m, M1L88_0\u001b[1;34m+w\u001b[0m, M1L89_0\u001b[1;34m+w\u001b[0m, M1L90_0\u001b[1;34m+w\u001b[0m, M1L91_0\u001b[1;34m+w\u001b[0m, M1L92_0\u001b[1;34m+w\u001b[0m, M1L93_0\u001b[1;34m+w\u001b[0m, M1L94_0\u001b[1;34m+w\u001b[0m, M1L95_0\u001b[1;34m+w\u001b[0m, M1L96_0\u001b[1;34m+w\u001b[0m, M1M01_0\u001b[1;34m+w\u001b[0m, M1M02_0\u001b[1;34m+w\u001b[0m, M1M03_0\u001b[1;34m+w\u001b[0m, M1M04_0\u001b[1;34m+w\u001b[0m, M1M05_0\u001b[1;34m+w\u001b[0m, M1M06_0\u001b[1;34m+w\u001b[0m, M1M07_0\u001b[1;34m+w\u001b[0m, M1M08_0\u001b[1;34m+w\u001b[0m, M1M09_0\u001b[1;34m+w\u001b[0m, M1M10_0\u001b[1;34m+w\u001b[0m, M1M11_0\u001b[1;34m+w\u001b[0m, M1M12_0\u001b[1;34m+w\u001b[0m, M1M13_0\u001b[1;34m+w\u001b[0m, M1M14_0\u001b[1;34m+w\u001b[0m, M1M15_0\u001b[1;34m+w\u001b[0m, M1M16_0\u001b[1;34m+w\u001b[0m, M1M17_0\u001b[1;34m+w\u001b[0m, M1M18_0\u001b[1;34m+w\u001b[0m, M1M19_0\u001b[1;34m+w\u001b[0m, M1M20_0\u001b[1;34m+w\u001b[0m, M1M21_0\u001b[1;34m+w\u001b[0m, M1M22_0\u001b[1;34m+w\u001b[0m, M1M23_0\u001b[1;34m+w\u001b[0m, M1M24_0\u001b[1;34m+w\u001b[0m, M1M25_0\u001b[1;34m+w\u001b[0m, M1M26_0\u001b[1;34m+w\u001b[0m, M1M27_0\u001b[1;34m+w\u001b[0m, M1M28_0\u001b[1;34m+w\u001b[0m, M1M29_0\u001b[1;34m+w\u001b[0m, M1M30_0\u001b[1;34m+w\u001b[0m, M1M31_0\u001b[1;34m+w\u001b[0m, M1M32_0\u001b[1;34m+w\u001b[0m, M1M33_0\u001b[1;34m+w\u001b[0m, M1M34_0\u001b[1;34m+w\u001b[0m, M1M35_0\u001b[1;34m+w\u001b[0m, M1M36_0\u001b[1;34m+w\u001b[0m, M1M37_0\u001b[1;34m+w\u001b[0m, M1M38_0\u001b[1;34m+w\u001b[0m, M1M39_0\u001b[1;34m+w\u001b[0m, M1M40_0\u001b[1;34m+w\u001b[0m, M1M41_0\u001b[1;34m+w\u001b[0m, M1M42_0\u001b[1;34m+w\u001b[0m, M1M43_0\u001b[1;34m+w\u001b[0m, M1M44_0\u001b[1;34m+w\u001b[0m, M1M45_0\u001b[1;34m+w\u001b[0m, M1M46_0\u001b[1;34m+w\u001b[0m, M1M47_0\u001b[1;34m+w\u001b[0m, M1M48_0\u001b[1;34m+w\u001b[0m, M1M49_0\u001b[1;34m+w\u001b[0m, M1M50_0\u001b[1;34m+w\u001b[0m, M1M51_0\u001b[1;34m+w\u001b[0m, M1M52_0\u001b[1;34m+w\u001b[0m, M1M53_0\u001b[1;34m+w\u001b[0m, M1M54_0\u001b[1;34m+w\u001b[0m, M1M55_0\u001b[1;34m+w\u001b[0m, M1M56_0\u001b[1;34m+w\u001b[0m, M1M57_0\u001b[1;34m+w\u001b[0m, M1M58_0\u001b[1;34m+w\u001b[0m, M1M59_0\u001b[1;34m+w\u001b[0m, M1M60_0\u001b[1;34m+w\u001b[0m, M1M61_0\u001b[1;34m+w\u001b[0m, M1M62_0\u001b[1;34m+w\u001b[0m, M1M63_0\u001b[1;34m+w\u001b[0m, M1M64_0\u001b[1;34m+w\u001b[0m, M1M65_0\u001b[1;34m+w\u001b[0m, M1M66_0\u001b[1;34m+w\u001b[0m, M1M67_0\u001b[1;34m+w\u001b[0m, M1M68_0\u001b[1;34m+w\u001b[0m, M1M69_0\u001b[1;34m+w\u001b[0m, M1M70_0\u001b[1;34m+w\u001b[0m, M1M71_0\u001b[1;34m+w\u001b[0m, M1M72_0\u001b[1;34m+w\u001b[0m, M1M73_0\u001b[1;34m+w\u001b[0m, M1M74_0\u001b[1;34m+w\u001b[0m, M1M75_0\u001b[1;34m+w\u001b[0m, M1M76_0\u001b[1;34m+w\u001b[0m, M1M77_0\u001b[1;34m+w\u001b[0m, M1M78_0\u001b[1;34m+w\u001b[0m, M1M79_0\u001b[1;34m+w\u001b[0m, M1M80_0\u001b[1;34m+w\u001b[0m, M1M81_0\u001b[1;34m+w\u001b[0m, M1M82_0\u001b[1;34m+w\u001b[0m, M1M83_0\u001b[1;34m+w\u001b[0m, M1M84_0\u001b[1;34m+w\u001b[0m, M1M85_0\u001b[1;34m+w\u001b[0m, M1M86_0\u001b[1;34m+w\u001b[0m, M1M87_0\u001b[1;34m+w\u001b[0m, M1M88_0\u001b[1;34m+w\u001b[0m, M1M89_0\u001b[1;34m+w\u001b[0m, M1M90_0\u001b[1;34m+w\u001b[0m, M1M91_0\u001b[1;34m+w\u001b[0m, M1M92_0\u001b[1;34m+w\u001b[0m, M1M93_0\u001b[1;34m+w\u001b[0m, M1M94_0\u001b[1;34m+w\u001b[0m, M1M95_0\u001b[1;34m+w\u001b[0m, M1M96_0\u001b[1;34m+w\u001b[0m, PMd01_0\u001b[1;34m+w\u001b[0m, PMd02_0\u001b[1;34m+w\u001b[0m, PMd03_0\u001b[1;34m+w\u001b[0m, PMd04_0\u001b[1;34m+w\u001b[0m, PMd05_0\u001b[1;34m+w\u001b[0m, PMd06_0\u001b[1;34m+w\u001b[0m, PMd07_0\u001b[1;34m+w\u001b[0m, PMd08_0\u001b[1;34m+w\u001b[0m, PMd09_0\u001b[1;34m+w\u001b[0m, PMd10_0\u001b[1;34m+w\u001b[0m, PMd11_0\u001b[1;34m+w\u001b[0m, PMd12_0\u001b[1;34m+w\u001b[0m, PMd13_0\u001b[1;34m+w\u001b[0m, PMd14_0\u001b[1;34m+w\u001b[0m, PMd15_0\u001b[1;34m+w\u001b[0m, PMd16_0\u001b[1;34m+w\u001b[0m, PMd17_0\u001b[1;34m+w\u001b[0m, PMd18_0\u001b[1;34m+w\u001b[0m, PMd19_0\u001b[1;34m+w\u001b[0m, PMd20_0\u001b[1;34m+w\u001b[0m, PMd21_0\u001b[1;34m+w\u001b[0m, PMd22_0\u001b[1;34m+w\u001b[0m, PMd23_0\u001b[1;34m+w\u001b[0m, PMd24_0\u001b[1;34m+w\u001b[0m, PMd25_0\u001b[1;34m+w\u001b[0m, PMd26_0\u001b[1;34m+w\u001b[0m, PMd27_0\u001b[1;34m+w\u001b[0m, PMd28_0\u001b[1;34m+w\u001b[0m, PMd29_0\u001b[1;34m+w\u001b[0m, PMd30_0\u001b[1;34m+w\u001b[0m, PMd31_0\u001b[1;34m+w\u001b[0m, PMd32_0\u001b[1;34m+w\u001b[0m, PMd33_0\u001b[1;34m+w\u001b[0m, PMd34_0\u001b[1;34m+w\u001b[0m, PMd35_0\u001b[1;34m+w\u001b[0m, PMd36_0\u001b[1;34m+w\u001b[0m, PMd37_0\u001b[1;34m+w\u001b[0m, PMd38_0\u001b[1;34m+w\u001b[0m, PMd39_0\u001b[1;34m+w\u001b[0m, PMd40_0\u001b[1;34m+w\u001b[0m, PMd41_0\u001b[1;34m+w\u001b[0m, PMd42_0\u001b[1;34m+w\u001b[0m, PMd43_0\u001b[1;34m+w\u001b[0m, PMd44_0\u001b[1;34m+w\u001b[0m, PMd45_0\u001b[1;34m+w\u001b[0m, PMd46_0\u001b[1;34m+w\u001b[0m, PMd47_0\u001b[1;34m+w\u001b[0m, PMd48_0\u001b[1;34m+w\u001b[0m, PMd49_0\u001b[1;34m+w\u001b[0m, PMd50_0\u001b[1;34m+w\u001b[0m, PMd51_0\u001b[1;34m+w\u001b[0m, PMd52_0\u001b[1;34m+w\u001b[0m, PMd53_0\u001b[1;34m+w\u001b[0m, PMd54_0\u001b[1;34m+w\u001b[0m, PMd55_0\u001b[1;34m+w\u001b[0m, PMd56_0\u001b[1;34m+w\u001b[0m, PMd57_0\u001b[1;34m+w\u001b[0m, PMd58_0\u001b[1;34m+w\u001b[0m, PMd59_0\u001b[1;34m+w\u001b[0m, PMd60_0\u001b[1;34m+w\u001b[0m, PMd61_0\u001b[1;34m+w\u001b[0m, PMd62_0\u001b[1;34m+w\u001b[0m, PMd63_0\u001b[1;34m+w\u001b[0m, PMd64_0\u001b[1;34m+w\u001b[0m, PMd65_0\u001b[1;34m+w\u001b[0m, PMd66_0\u001b[1;34m+w\u001b[0m, PMd67_0\u001b[1;34m+w\u001b[0m, PMd68_0\u001b[1;34m+w\u001b[0m, PMd69_0\u001b[1;34m+w\u001b[0m, PMd70_0\u001b[1;34m+w\u001b[0m, PMd71_0\u001b[1;34m+w\u001b[0m, PMd72_0\u001b[1;34m+w\u001b[0m, PMd73_0\u001b[1;34m+w\u001b[0m, PMd74_0\u001b[1;34m+w\u001b[0m, PMd75_0\u001b[1;34m+w\u001b[0m, PMd76_0\u001b[1;34m+w\u001b[0m, PMd77_0\u001b[1;34m+w\u001b[0m, PMd78_0\u001b[1;34m+w\u001b[0m, PMd79_0\u001b[1;34m+w\u001b[0m, PMd80_0\u001b[1;34m+w\u001b[0m, PMd81_0\u001b[1;34m+w\u001b[0m, PMd82_0\u001b[1;34m+w\u001b[0m, PMd83_0\u001b[1;34m+w\u001b[0m, PMd84_0\u001b[1;34m+w\u001b[0m, PMd85_0\u001b[1;34m+w\u001b[0m, PMd86_0\u001b[1;34m+w\u001b[0m, PMd87_0\u001b[1;34m+w\u001b[0m, PMd88_0\u001b[1;34m+w\u001b[0m, PMd89_0\u001b[1;34m+w\u001b[0m, PMd90_0\u001b[1;34m+w\u001b[0m, PMd91_0\u001b[1;34m+w\u001b[0m, PMd92_0\u001b[1;34m+w\u001b[0m, PMd93_0\u001b[1;34m+w\u001b[0m, PMd94_0\u001b[1;34m+w\u001b[0m, PMd95_0\u001b[1;34m+w\u001b[0m, PMd96_0\u001b[1;34m+w\u001b[0m, test01_1\u001b[0m\n",
      "\u001b[0;33mContinuous Neural: \u001b[0m\u001b[0m\n",
      "\u001b[0;33mImage: \u001b[0m\u001b[0m\n",
      "\n"
     ]
    }
   ],
   "source": [
    "td = td.addSpikeChannel('test01_1', spikes(:, 1))"
   ]
  },
  {
   "cell_type": "code",
   "execution_count": 5,
   "metadata": {},
   "outputs": [
    {
     "name": "stdout",
     "output_type": "stream",
     "text": [
      "\n",
      "ans =\n",
      "\n",
      "  6x1 cell array\n",
      "\n",
      "    {'test01_1'  }\n",
      "    {'utahA01_2' }\n",
      "    {'utahA03_4' }\n",
      "    {'utahA05_6' }\n",
      "    {'utahA07_8' }\n",
      "    {'utahA09_10'}\n",
      "\n"
     ]
    }
   ],
   "source": [
    "td.listSpikeChannels"
   ]
  },
  {
   "cell_type": "code",
   "execution_count": 46,
   "metadata": {},
   "outputs": [
    {
     "name": "stdout",
     "output_type": "stream",
     "text": [
      "\n",
      "ans =\n",
      "\n",
      "  10x2 cell array\n",
      "\n",
      "    {2x1 double}    {2x1 double}\n",
      "    {2x1 double}    {2x1 double}\n",
      "    {2x1 double}    {2x1 double}\n",
      "    {2x1 double}    {2x1 double}\n",
      "    {2x1 double}    {2x1 double}\n",
      "    {2x1 double}    {2x1 double}\n",
      "    {2x1 double}    {2x1 double}\n",
      "    {2x1 double}    {2x1 double}\n",
      "    {2x1 double}    {2x1 double}\n",
      "    {2x1 double}    {2x1 double}\n",
      "\n"
     ]
    }
   ],
   "source": [
    "td.getSpikeTimes([\"utahA01_2\", \"utahA07_8\"])"
   ]
  },
  {
   "cell_type": "code",
   "execution_count": null,
   "metadata": {},
   "outputs": [
    {
     "name": "stderr",
     "output_type": "stream",
     "text": [
      "Not enough input arguments.\n",
      "\n",
      "Error in SpikeChannelArrayDescriptor/buildIndividualSubChannel (line 253)\n",
      "                cd.array, cd.electrodes(uidx), cd.units(uidx));\n",
      "\n",
      "[IPKernelApp] ERROR | Exception in message handler:\n",
      "Traceback (most recent call last):\n",
      "  File \"/Users/djoshea/anaconda3/envs/jupyter/lib/python3.6/site-packages/ipykernel/kernelbase.py\", line 233, in dispatch_shell\n",
      "    handler(stream, idents, msg)\n",
      "  File \"/Users/djoshea/anaconda3/envs/jupyter/lib/python3.6/site-packages/ipykernel/kernelbase.py\", line 399, in execute_request\n",
      "    user_expressions, allow_stdin)\n",
      "  File \"/Users/djoshea/anaconda3/envs/jupyter/lib/python3.6/site-packages/imatlab/_kernel.py\", line 233, in do_execute\n",
      "    raise engine_error\n",
      "  File \"/Users/djoshea/anaconda3/envs/jupyter/lib/python3.6/site-packages/imatlab/_kernel.py\", line 212, in do_execute\n",
      "    self._call(\"eval\", code, nargout=0)\n",
      "  File \"/Users/djoshea/anaconda3/envs/jupyter/lib/python3.6/site-packages/imatlab/_kernel.py\", line 116, in _call\n",
      "    return self._engine.builtin(*args, **kwargs)\n",
      "  File \"/Users/djoshea/anaconda3/envs/jupyter/lib/python3.6/site-packages/matlab/engine/matlabengine.py\", line 71, in __call__\n",
      "    _stderr, feval=True).result()\n",
      "  File \"/Users/djoshea/anaconda3/envs/jupyter/lib/python3.6/site-packages/matlab/engine/futureresult.py\", line 67, in result\n",
      "    return self.__future.result(timeout)\n",
      "  File \"/Users/djoshea/anaconda3/envs/jupyter/lib/python3.6/site-packages/matlab/engine/fevalfuture.py\", line 82, in result\n",
      "    self._result = pythonengine.getFEvalResult(self._future,self._nargout, None, out=self._out, err=self._err)\n",
      "matlab.engine.EngineError: MATLAB function cannot be evaluated\n"
     ]
    }
   ],
   "source": [
    "td.channelDescriptorsByName.utahA.buildIndividualSubChannel"
   ]
  },
  {
   "cell_type": "code",
   "execution_count": 29,
   "metadata": {},
   "outputs": [],
   "source": [
    "umiPath = '/Users/djoshea/data/Umlaut/saveTagTrialDataFromNev_entries/subject_Umlaut.date_2017-11-08.saveTag_1.trialData';"
   ]
  },
  {
   "cell_type": "code",
   "execution_count": 30,
   "metadata": {},
   "outputs": [
    {
     "name": "stdout",
     "output_type": "stream",
     "text": [
      "\n",
      "ans =\n",
      "\n",
      "  5x1 cell array\n",
      "\n",
      "    {'waveforms'}\n",
      "    {'spikes'   }\n",
      "    {'loadCell' }\n",
      "    {'hand'     }\n",
      "    {'analog'   }\n",
      "\n"
     ]
    }
   ],
   "source": [
    "TrialData.loadFastListPartitions(umiPath)"
   ]
  },
  {
   "cell_type": "code",
   "execution_count": 48,
   "metadata": {},
   "outputs": [
    {
     "name": "stdout",
     "output_type": "stream",
     "text": [
      "                                                                               \u001b[0m\n",
      "td = \n",
      "\n",
      "\u001b[0;33mTrialData: \u001b[0m10 trials (10 valid) with 465 channels\u001b[0m\n",
      "\u001b[0;33mDataset: \u001b[0mUmlaut 2017-11-08 ArmDynamics saveTag 1\u001b[0m\n",
      "\n",
      "\u001b[0;33mParam: \u001b[0mallowReacquireCenter, allowReacquireTarget, autoMoveToCenter, blockId, centerSize, centerX, centerY, conditionDesc, conditionId, conditionProportion, constantForceFieldDirection, constantForceFieldMagnitude, cursorJumpDistance, cursorJumpLocationFractional, cursorJumpOffsetX, cursorJumpOffsetY, cursorOffsetApplied, decelerationThreshRatio, delay, delayAfterMaxPeakVelocityFail, delayAfterMinPeakVelocityFail, delayNominal, delayRangeLongMax, delayRangeLongMin, delayRangeMax, delayRangeMin, delayRangeShortMax, delayRangeShortMin, delayVibrateSigma, disallowDoubleAcceleration, disallowLateralDeviation, distanceTowardsTargetThresh, enforceMaxPeakVelocity, enforceMinPeakVelocity, failOnMissedTarget, failureCode, fracShortDelay, fracZeroDelay, handMissedTargetMargin, handSource, hapticCursorDiameter, hasMissedTarget, hasNeuralContinuousData, hasNeuralSpikeData, hasTargetL, hasTargetR, holdWindowCenter, holdWindowTarget, inactiveTargetContrast, isCenterOut, isIsometric, isMiscueTrial, iti, itiFailure, itiSuccess, jumpTargetAcceptanceWidth, jumpTargetDepth, jumpTargetTheta, jumpTargetWidth, jumpTargetX, jumpTargetY, manualHoldDuringDelay, maxPeakVelocityTowardsTarget, maxZOffScreenPlane, minPeakVelocityTowardsTarget, nevMerged, nevMergedFile, obstacleCollisionPermitted, perturb, perturbAngleRelativeToReach, perturbDirection, perturbDirectionName, perturbDirectionX, perturbDirectionY, perturbDirectionZ, perturbDuration, perturbLate, perturbMagnitude, perturbMagnitudeName, perturbOffsetFromEvent, perturbOrthogonal, perturbRelativeToEvent, perturbTiming, perturbType, protocol, protocolVersion, purgatoryConsecutiveNoStarts, purgatoryTime, purgatoryTimeAfterHandleReleased, reaccelerationThreshDelta, repeatUntilSuccess, rt, rtMax, rtMin, saveTag, simulatedDragX, simulatedDragY, simulatedMassLevel, simulatedMassX, simulatedMassY, subject, substantiveFailure, success, targetAcceptanceWidth, targetDepth, targetDirection, targetDirectionName, targetDistance, targetJump, targetJumpDistance, targetJumpLocationFractional, targetJumpOffsetFromEvent, targetJumpRelativeToEvent, targetPlanarStop, targetPointsDisplayX, targetPointsDisplayY, targetPointsHapticX, targetPointsHapticY, targetShiftPostPerturbation, targetTheta, targetViscosity, targetWidth, targetX, targetY, threshAcceleration, threshLateralVelocity, timeCenterAcquire, timeCenterHold, timeCenterSettle, timeFailureFeedback, timeJuice, timeJuiceAccuracyMultiplier, timeJuiceCenter, timeJuiceHitObstacle, timeObstacleOnsetBeforeTarget, timeRewardFeedback, timeStartWallclock, timeTargetAcquire, timeTargetHold, timeTargetSettle, trialCategory, trialId, velDepForceAngle, velDepForceGain, velocityTowardsTargetThresh, visualPerturbationType\u001b[0m\n",
      "\u001b[0;33mEvent: \u001b[0mCenterAcquired, CenterHeld, CenterOnset, CenterSettled, FailureBrokeCenterHold, FailureBrokeCenterHoldDelay, FailureHapticReleased, FailureHitWorkspaceEdge, FailureRTTooFast, FailureRTTooSlow, FailureToAcquireCenter, FailureToAcquireTarget, GoCue, GoCueCommand, HapticPerturbation, HapticPerturbationOption, MoveOnsetOnline, MoveOnsetThresh, Success, TargetAcquired, TargetHeld, TargetOnset, TargetOnsetCommand, TargetSettled, TargetUnacquire, TrialEnd, TrialStart\u001b[0m\n",
      "\u001b[0;33mAnalog: \u001b[0mphotobox, photoboxRaw\u001b[0m\n",
      "\u001b[0m  \u001b[1;34manalog \u001b[0m(1)\u001b[0m\n",
      "\u001b[0m  \u001b[1;34manalog_logical \u001b[0m(1)\u001b[0m\n",
      "\u001b[0;33mSpike: \u001b[0m \u001b[0m\u001b[0mM1L01_0\u001b[1;34m+w\u001b[0m, M1L02_0\u001b[1;34m+w\u001b[0m, M1L03_0\u001b[1;34m+w\u001b[0m, M1L04_0\u001b[1;34m+w\u001b[0m, M1L05_0\u001b[1;34m+w\u001b[0m, M1L06_0\u001b[1;34m+w\u001b[0m, M1L07_0\u001b[1;34m+w\u001b[0m, M1L08_0\u001b[1;34m+w\u001b[0m, M1L09_0\u001b[1;34m+w\u001b[0m, M1L10_0\u001b[1;34m+w\u001b[0m, M1L11_0\u001b[1;34m+w\u001b[0m, M1L12_0\u001b[1;34m+w\u001b[0m, M1L13_0\u001b[1;34m+w\u001b[0m, M1L14_0\u001b[1;34m+w\u001b[0m, M1L15_0\u001b[1;34m+w\u001b[0m, M1L16_0\u001b[1;34m+w\u001b[0m, M1L17_0\u001b[1;34m+w\u001b[0m, M1L18_0\u001b[1;34m+w\u001b[0m, M1L19_0\u001b[1;34m+w\u001b[0m, M1L20_0\u001b[1;34m+w\u001b[0m, M1L21_0\u001b[1;34m+w\u001b[0m, M1L22_0\u001b[1;34m+w\u001b[0m, M1L23_0\u001b[1;34m+w\u001b[0m, M1L24_0\u001b[1;34m+w\u001b[0m, M1L25_0\u001b[1;34m+w\u001b[0m, M1L26_0\u001b[1;34m+w\u001b[0m, M1L27_0\u001b[1;34m+w\u001b[0m, M1L28_0\u001b[1;34m+w\u001b[0m, M1L29_0\u001b[1;34m+w\u001b[0m, M1L30_0\u001b[1;34m+w\u001b[0m, M1L31_0\u001b[1;34m+w\u001b[0m, M1L32_0\u001b[1;34m+w\u001b[0m, M1L33_0\u001b[1;34m+w\u001b[0m, M1L34_0\u001b[1;34m+w\u001b[0m, M1L35_0\u001b[1;34m+w\u001b[0m, M1L36_0\u001b[1;34m+w\u001b[0m, M1L37_0\u001b[1;34m+w\u001b[0m, M1L38_0\u001b[1;34m+w\u001b[0m, M1L39_0\u001b[1;34m+w\u001b[0m, M1L40_0\u001b[1;34m+w\u001b[0m, M1L41_0\u001b[1;34m+w\u001b[0m, M1L42_0\u001b[1;34m+w\u001b[0m, M1L43_0\u001b[1;34m+w\u001b[0m, M1L44_0\u001b[1;34m+w\u001b[0m, M1L45_0\u001b[1;34m+w\u001b[0m, M1L46_0\u001b[1;34m+w\u001b[0m, M1L47_0\u001b[1;34m+w\u001b[0m, M1L48_0\u001b[1;34m+w\u001b[0m, M1L49_0\u001b[1;34m+w\u001b[0m, M1L50_0\u001b[1;34m+w\u001b[0m, M1L51_0\u001b[1;34m+w\u001b[0m, M1L52_0\u001b[1;34m+w\u001b[0m, M1L53_0\u001b[1;34m+w\u001b[0m, M1L54_0\u001b[1;34m+w\u001b[0m, M1L55_0\u001b[1;34m+w\u001b[0m, M1L56_0\u001b[1;34m+w\u001b[0m, M1L57_0\u001b[1;34m+w\u001b[0m, M1L58_0\u001b[1;34m+w\u001b[0m, M1L59_0\u001b[1;34m+w\u001b[0m, M1L60_0\u001b[1;34m+w\u001b[0m, M1L61_0\u001b[1;34m+w\u001b[0m, M1L62_0\u001b[1;34m+w\u001b[0m, M1L63_0\u001b[1;34m+w\u001b[0m, M1L64_0\u001b[1;34m+w\u001b[0m, M1L65_0\u001b[1;34m+w\u001b[0m, M1L66_0\u001b[1;34m+w\u001b[0m, M1L67_0\u001b[1;34m+w\u001b[0m, M1L68_0\u001b[1;34m+w\u001b[0m, M1L69_0\u001b[1;34m+w\u001b[0m, M1L70_0\u001b[1;34m+w\u001b[0m, M1L71_0\u001b[1;34m+w\u001b[0m, M1L72_0\u001b[1;34m+w\u001b[0m, M1L73_0\u001b[1;34m+w\u001b[0m, M1L74_0\u001b[1;34m+w\u001b[0m, M1L75_0\u001b[1;34m+w\u001b[0m, M1L76_0\u001b[1;34m+w\u001b[0m, M1L77_0\u001b[1;34m+w\u001b[0m, M1L78_0\u001b[1;34m+w\u001b[0m, M1L79_0\u001b[1;34m+w\u001b[0m, M1L80_0\u001b[1;34m+w\u001b[0m, M1L81_0\u001b[1;34m+w\u001b[0m, M1L82_0\u001b[1;34m+w\u001b[0m, M1L83_0\u001b[1;34m+w\u001b[0m, M1L84_0\u001b[1;34m+w\u001b[0m, M1L85_0\u001b[1;34m+w\u001b[0m, M1L86_0\u001b[1;34m+w\u001b[0m, M1L87_0\u001b[1;34m+w\u001b[0m, M1L88_0\u001b[1;34m+w\u001b[0m, M1L89_0\u001b[1;34m+w\u001b[0m, M1L90_0\u001b[1;34m+w\u001b[0m, M1L91_0\u001b[1;34m+w\u001b[0m, M1L92_0\u001b[1;34m+w\u001b[0m, M1L93_0\u001b[1;34m+w\u001b[0m, M1L94_0\u001b[1;34m+w\u001b[0m, M1L95_0\u001b[1;34m+w\u001b[0m, M1L96_0\u001b[1;34m+w\u001b[0m, M1M01_0\u001b[1;34m+w\u001b[0m, M1M02_0\u001b[1;34m+w\u001b[0m, M1M03_0\u001b[1;34m+w\u001b[0m, M1M04_0\u001b[1;34m+w\u001b[0m, M1M05_0\u001b[1;34m+w\u001b[0m, M1M06_0\u001b[1;34m+w\u001b[0m, M1M07_0\u001b[1;34m+w\u001b[0m, M1M08_0\u001b[1;34m+w\u001b[0m, M1M09_0\u001b[1;34m+w\u001b[0m, M1M10_0\u001b[1;34m+w\u001b[0m, M1M11_0\u001b[1;34m+w\u001b[0m, M1M12_0\u001b[1;34m+w\u001b[0m, M1M13_0\u001b[1;34m+w\u001b[0m, M1M14_0\u001b[1;34m+w\u001b[0m, M1M15_0\u001b[1;34m+w\u001b[0m, M1M16_0\u001b[1;34m+w\u001b[0m, M1M17_0\u001b[1;34m+w\u001b[0m, M1M18_0\u001b[1;34m+w\u001b[0m, M1M19_0\u001b[1;34m+w\u001b[0m, M1M20_0\u001b[1;34m+w\u001b[0m, M1M21_0\u001b[1;34m+w\u001b[0m, M1M22_0\u001b[1;34m+w\u001b[0m, M1M23_0\u001b[1;34m+w\u001b[0m, M1M24_0\u001b[1;34m+w\u001b[0m, M1M25_0\u001b[1;34m+w\u001b[0m, M1M26_0\u001b[1;34m+w\u001b[0m, M1M27_0\u001b[1;34m+w\u001b[0m, M1M28_0\u001b[1;34m+w\u001b[0m, M1M29_0\u001b[1;34m+w\u001b[0m, M1M30_0\u001b[1;34m+w\u001b[0m, M1M31_0\u001b[1;34m+w\u001b[0m, M1M32_0\u001b[1;34m+w\u001b[0m, M1M33_0\u001b[1;34m+w\u001b[0m, M1M34_0\u001b[1;34m+w\u001b[0m, M1M35_0\u001b[1;34m+w\u001b[0m, M1M36_0\u001b[1;34m+w\u001b[0m, M1M37_0\u001b[1;34m+w\u001b[0m, M1M38_0\u001b[1;34m+w\u001b[0m, M1M39_0\u001b[1;34m+w\u001b[0m, M1M40_0\u001b[1;34m+w\u001b[0m, M1M41_0\u001b[1;34m+w\u001b[0m, M1M42_0\u001b[1;34m+w\u001b[0m, M1M43_0\u001b[1;34m+w\u001b[0m, M1M44_0\u001b[1;34m+w\u001b[0m, M1M45_0\u001b[1;34m+w\u001b[0m, M1M46_0\u001b[1;34m+w\u001b[0m, M1M47_0\u001b[1;34m+w\u001b[0m, M1M48_0\u001b[1;34m+w\u001b[0m, M1M49_0\u001b[1;34m+w\u001b[0m, M1M50_0\u001b[1;34m+w\u001b[0m, M1M51_0\u001b[1;34m+w\u001b[0m, M1M52_0\u001b[1;34m+w\u001b[0m, M1M53_0\u001b[1;34m+w\u001b[0m, M1M54_0\u001b[1;34m+w\u001b[0m, M1M55_0\u001b[1;34m+w\u001b[0m, M1M56_0\u001b[1;34m+w\u001b[0m, M1M57_0\u001b[1;34m+w\u001b[0m, M1M58_0\u001b[1;34m+w\u001b[0m, M1M59_0\u001b[1;34m+w\u001b[0m, M1M60_0\u001b[1;34m+w\u001b[0m, M1M61_0\u001b[1;34m+w\u001b[0m, M1M62_0\u001b[1;34m+w\u001b[0m, M1M63_0\u001b[1;34m+w\u001b[0m, M1M64_0\u001b[1;34m+w\u001b[0m, M1M65_0\u001b[1;34m+w\u001b[0m, M1M66_0\u001b[1;34m+w\u001b[0m, M1M67_0\u001b[1;34m+w\u001b[0m, M1M68_0\u001b[1;34m+w\u001b[0m, M1M69_0\u001b[1;34m+w\u001b[0m, M1M70_0\u001b[1;34m+w\u001b[0m, M1M71_0\u001b[1;34m+w\u001b[0m, M1M72_0\u001b[1;34m+w\u001b[0m, M1M73_0\u001b[1;34m+w\u001b[0m, M1M74_0\u001b[1;34m+w\u001b[0m, M1M75_0\u001b[1;34m+w\u001b[0m, M1M76_0\u001b[1;34m+w\u001b[0m, M1M77_0\u001b[1;34m+w\u001b[0m, M1M78_0\u001b[1;34m+w\u001b[0m, M1M79_0\u001b[1;34m+w\u001b[0m, M1M80_0\u001b[1;34m+w\u001b[0m, M1M81_0\u001b[1;34m+w\u001b[0m, M1M82_0\u001b[1;34m+w\u001b[0m, M1M83_0\u001b[1;34m+w\u001b[0m, M1M84_0\u001b[1;34m+w\u001b[0m, M1M85_0\u001b[1;34m+w\u001b[0m, M1M86_0\u001b[1;34m+w\u001b[0m, M1M87_0\u001b[1;34m+w\u001b[0m, M1M88_0\u001b[1;34m+w\u001b[0m, M1M89_0\u001b[1;34m+w\u001b[0m, M1M90_0\u001b[1;34m+w\u001b[0m, M1M91_0\u001b[1;34m+w\u001b[0m, M1M92_0\u001b[1;34m+w\u001b[0m, M1M93_0\u001b[1;34m+w\u001b[0m, M1M94_0\u001b[1;34m+w\u001b[0m, M1M95_0\u001b[1;34m+w\u001b[0m, M1M96_0\u001b[1;34m+w\u001b[0m, PMd01_0\u001b[1;34m+w\u001b[0m, PMd02_0\u001b[1;34m+w\u001b[0m, PMd03_0\u001b[1;34m+w\u001b[0m, PMd04_0\u001b[1;34m+w\u001b[0m, PMd05_0\u001b[1;34m+w\u001b[0m, PMd06_0\u001b[1;34m+w\u001b[0m, PMd07_0\u001b[1;34m+w\u001b[0m, PMd08_0\u001b[1;34m+w\u001b[0m, PMd09_0\u001b[1;34m+w\u001b[0m, PMd10_0\u001b[1;34m+w\u001b[0m, PMd11_0\u001b[1;34m+w\u001b[0m, PMd12_0\u001b[1;34m+w\u001b[0m, PMd13_0\u001b[1;34m+w\u001b[0m, PMd14_0\u001b[1;34m+w\u001b[0m, PMd15_0\u001b[1;34m+w\u001b[0m, PMd16_0\u001b[1;34m+w\u001b[0m, PMd17_0\u001b[1;34m+w\u001b[0m, PMd18_0\u001b[1;34m+w\u001b[0m, PMd19_0\u001b[1;34m+w\u001b[0m, PMd20_0\u001b[1;34m+w\u001b[0m, PMd21_0\u001b[1;34m+w\u001b[0m, PMd22_0\u001b[1;34m+w\u001b[0m, PMd23_0\u001b[1;34m+w\u001b[0m, PMd24_0\u001b[1;34m+w\u001b[0m, PMd25_0\u001b[1;34m+w\u001b[0m, PMd26_0\u001b[1;34m+w\u001b[0m, PMd27_0\u001b[1;34m+w\u001b[0m, PMd28_0\u001b[1;34m+w\u001b[0m, PMd29_0\u001b[1;34m+w\u001b[0m, PMd30_0\u001b[1;34m+w\u001b[0m, PMd31_0\u001b[1;34m+w\u001b[0m, PMd32_0\u001b[1;34m+w\u001b[0m, PMd33_0\u001b[1;34m+w\u001b[0m, PMd34_0\u001b[1;34m+w\u001b[0m, PMd35_0\u001b[1;34m+w\u001b[0m, PMd36_0\u001b[1;34m+w\u001b[0m, PMd37_0\u001b[1;34m+w\u001b[0m, PMd38_0\u001b[1;34m+w\u001b[0m, PMd39_0\u001b[1;34m+w\u001b[0m, PMd40_0\u001b[1;34m+w\u001b[0m, PMd41_0\u001b[1;34m+w\u001b[0m, PMd42_0\u001b[1;34m+w\u001b[0m, PMd43_0\u001b[1;34m+w\u001b[0m, PMd44_0\u001b[1;34m+w\u001b[0m, PMd45_0\u001b[1;34m+w\u001b[0m, PMd46_0\u001b[1;34m+w\u001b[0m, PMd47_0\u001b[1;34m+w\u001b[0m, PMd48_0\u001b[1;34m+w\u001b[0m, PMd49_0\u001b[1;34m+w\u001b[0m, PMd50_0\u001b[1;34m+w\u001b[0m, PMd51_0\u001b[1;34m+w\u001b[0m, PMd52_0\u001b[1;34m+w\u001b[0m, PMd53_0\u001b[1;34m+w\u001b[0m, PMd54_0\u001b[1;34m+w\u001b[0m, PMd55_0\u001b[1;34m+w\u001b[0m, PMd56_0\u001b[1;34m+w\u001b[0m, PMd57_0\u001b[1;34m+w\u001b[0m, PMd58_0\u001b[1;34m+w\u001b[0m, PMd59_0\u001b[1;34m+w\u001b[0m, PMd60_0\u001b[1;34m+w\u001b[0m, PMd61_0\u001b[1;34m+w\u001b[0m, PMd62_0\u001b[1;34m+w\u001b[0m, PMd63_0\u001b[1;34m+w\u001b[0m, PMd64_0\u001b[1;34m+w\u001b[0m, PMd65_0\u001b[1;34m+w\u001b[0m, PMd66_0\u001b[1;34m+w\u001b[0m, PMd67_0\u001b[1;34m+w\u001b[0m, PMd68_0\u001b[1;34m+w\u001b[0m, PMd69_0\u001b[1;34m+w\u001b[0m, PMd70_0\u001b[1;34m+w\u001b[0m, PMd71_0\u001b[1;34m+w\u001b[0m, PMd72_0\u001b[1;34m+w\u001b[0m, PMd73_0\u001b[1;34m+w\u001b[0m, PMd74_0\u001b[1;34m+w\u001b[0m, PMd75_0\u001b[1;34m+w\u001b[0m, PMd76_0\u001b[1;34m+w\u001b[0m, PMd77_0\u001b[1;34m+w\u001b[0m, PMd78_0\u001b[1;34m+w\u001b[0m, PMd79_0\u001b[1;34m+w\u001b[0m, PMd80_0\u001b[1;34m+w\u001b[0m, PMd81_0\u001b[1;34m+w\u001b[0m, PMd82_0\u001b[1;34m+w\u001b[0m, PMd83_0\u001b[1;34m+w\u001b[0m, PMd84_0\u001b[1;34m+w\u001b[0m, PMd85_0\u001b[1;34m+w\u001b[0m, PMd86_0\u001b[1;34m+w\u001b[0m, PMd87_0\u001b[1;34m+w\u001b[0m, PMd88_0\u001b[1;34m+w\u001b[0m, PMd89_0\u001b[1;34m+w\u001b[0m, PMd90_0\u001b[1;34m+w\u001b[0m, PMd91_0\u001b[1;34m+w\u001b[0m, PMd92_0\u001b[1;34m+w\u001b[0m, PMd93_0\u001b[1;34m+w\u001b[0m, PMd94_0\u001b[1;34m+w\u001b[0m, PMd95_0\u001b[1;34m+w\u001b[0m, PMd96_0\u001b[1;34m+w\u001b[0m\u001b[0m\n",
      "\u001b[0;33mContinuous Neural: \u001b[0m\u001b[0m\n",
      "\u001b[0;33mImage: \u001b[0m\u001b[0m\n",
      "\n"
     ]
    }
   ],
   "source": [
    "td = TrialData.loadFast(umiPath, 'partitions', {'spikes', 'waveforms', 'analog'}, 'maxTrials', 10)"
   ]
  },
  {
   "cell_type": "code",
   "execution_count": 28,
   "metadata": {},
   "outputs": [
    {
     "name": "stdout",
     "output_type": "stream",
     "text": [
      "\n",
      "td = \n",
      "\n",
      "\u001b[0;33mTrialData: \u001b[0m10 trials (10 valid) with 173 channels\u001b[0m\n",
      "\u001b[0;33mDataset: \u001b[0mUmlaut 2017-11-08 ArmDynamics saveTag 1\u001b[0m\n",
      "\n",
      "\u001b[0;33mParam: \u001b[0mallowReacquireCenter, allowReacquireTarget, autoMoveToCenter, blockId, centerSize, centerX, centerY, conditionDesc, conditionId, conditionProportion, constantForceFieldDirection, constantForceFieldMagnitude, cursorJumpDistance, cursorJumpLocationFractional, cursorJumpOffsetX, cursorJumpOffsetY, cursorOffsetApplied, decelerationThreshRatio, delay, delayAfterMaxPeakVelocityFail, delayAfterMinPeakVelocityFail, delayNominal, delayRangeLongMax, delayRangeLongMin, delayRangeMax, delayRangeMin, delayRangeShortMax, delayRangeShortMin, delayVibrateSigma, disallowDoubleAcceleration, disallowLateralDeviation, distanceTowardsTargetThresh, enforceMaxPeakVelocity, enforceMinPeakVelocity, failOnMissedTarget, failureCode, fracShortDelay, fracZeroDelay, handMissedTargetMargin, handSource, hapticCursorDiameter, hasMissedTarget, hasNeuralContinuousData, hasNeuralSpikeData, hasTargetL, hasTargetR, holdWindowCenter, holdWindowTarget, inactiveTargetContrast, isCenterOut, isIsometric, isMiscueTrial, iti, itiFailure, itiSuccess, jumpTargetAcceptanceWidth, jumpTargetDepth, jumpTargetTheta, jumpTargetWidth, jumpTargetX, jumpTargetY, manualHoldDuringDelay, maxPeakVelocityTowardsTarget, maxZOffScreenPlane, minPeakVelocityTowardsTarget, nevMerged, nevMergedFile, obstacleCollisionPermitted, perturb, perturbAngleRelativeToReach, perturbDirection, perturbDirectionName, perturbDirectionX, perturbDirectionY, perturbDirectionZ, perturbDuration, perturbLate, perturbMagnitude, perturbMagnitudeName, perturbOffsetFromEvent, perturbOrthogonal, perturbRelativeToEvent, perturbTiming, perturbType, protocol, protocolVersion, purgatoryConsecutiveNoStarts, purgatoryTime, purgatoryTimeAfterHandleReleased, reaccelerationThreshDelta, repeatUntilSuccess, rt, rtMax, rtMin, saveTag, simulatedDragX, simulatedDragY, simulatedMassLevel, simulatedMassX, simulatedMassY, subject, substantiveFailure, success, targetAcceptanceWidth, targetDepth, targetDirection, targetDirectionName, targetDistance, targetJump, targetJumpDistance, targetJumpLocationFractional, targetJumpOffsetFromEvent, targetJumpRelativeToEvent, targetPlanarStop, targetPointsDisplayX, targetPointsDisplayY, targetPointsHapticX, targetPointsHapticY, targetShiftPostPerturbation, targetTheta, targetViscosity, targetWidth, targetX, targetY, threshAcceleration, threshLateralVelocity, timeCenterAcquire, timeCenterHold, timeCenterSettle, timeFailureFeedback, timeJuice, timeJuiceAccuracyMultiplier, timeJuiceCenter, timeJuiceHitObstacle, timeObstacleOnsetBeforeTarget, timeRewardFeedback, timeStartWallclock, timeTargetAcquire, timeTargetHold, timeTargetSettle, trialCategory, trialId, velDepForceAngle, velDepForceGain, velocityTowardsTargetThresh, visualPerturbationType\u001b[0m\n",
      "\u001b[0;33mEvent: \u001b[0mCenterAcquired, CenterHeld, CenterOnset, CenterSettled, FailureBrokeCenterHold, FailureBrokeCenterHoldDelay, FailureHapticReleased, FailureHitWorkspaceEdge, FailureRTTooFast, FailureRTTooSlow, FailureToAcquireCenter, FailureToAcquireTarget, GoCue, GoCueCommand, HapticPerturbation, HapticPerturbationOption, MoveOnsetOnline, MoveOnsetThresh, Success, TargetAcquired, TargetHeld, TargetOnset, TargetOnsetCommand, TargetSettled, TargetUnacquire, TrialEnd, TrialStart\u001b[0m\n",
      "\u001b[0;33mAnalog: \u001b[0m\u001b[0m\n",
      "\u001b[0;33mSpike: \u001b[0m \u001b[0m\u001b[0m\u001b[0m\n",
      "\u001b[0;33mContinuous Neural: \u001b[0m\u001b[0m\n",
      "\u001b[0;33mImage: \u001b[0m\u001b[0m\n",
      "\n"
     ]
    }
   ],
   "source": [
    "td"
   ]
  },
  {
   "cell_type": "code",
   "execution_count": null,
   "metadata": {},
   "outputs": [],
   "source": []
  }
 ],
 "metadata": {
  "kernelspec": {
   "display_name": "iMatlab",
   "language": "matlab",
   "name": "imatlab"
  },
  "language_info": {
   "codemirror_mode": "octave",
   "file_extension": ".m",
   "mimetype": "text/x-matlab",
   "name": "matlab",
   "nbconvert_exporter": "imatlab._exporter.MatlabExporter",
   "pygments_lexer": "matlab",
   "version": "9.5.0.944444 (R2018b)"
  }
 },
 "nbformat": 4,
 "nbformat_minor": 2
}
