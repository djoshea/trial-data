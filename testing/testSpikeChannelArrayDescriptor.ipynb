{
 "cells": [
  {
   "cell_type": "code",
   "execution_count": 1,
   "metadata": {},
   "outputs": [],
   "source": [
    "addpath ~/npl\n",
    "startupJupyter"
   ]
  },
  {
   "cell_type": "code",
   "execution_count": 2,
   "metadata": {},
   "outputs": [
    {
     "name": "stdout",
     "output_type": "stream",
     "text": []
    }
   ],
   "source": [
    "nTrials = 10;\n",
    "nUnits = 5;\n",
    "T = 100;\n",
    "arrayName = 'utahA';\n",
    "\n",
    "td = TrialData.buildEmptyWithTrialDurations(repmat(T, nTrials, 1));"
   ]
  },
  {
   "cell_type": "code",
   "execution_count": 3,
   "metadata": {},
   "outputs": [],
   "source": [
    "electrodes = 1:2:(nUnits*2)-1;\n",
    "units = 2:2:nUnits*2;\n",
    "spikes = cell(nTrials , nUnits);\n",
    "for i = 1:numel(spikes)\n",
    "    spikes{i} = randi(100,1);\n",
    "end\n",
    "\n",
    "td = td.addSpikeArrayChannel(arrayName, electrodes, units, spikes);"
   ]
  },
  {
   "cell_type": "code",
   "execution_count": 4,
   "metadata": {},
   "outputs": [
    {
     "name": "stdout",
     "output_type": "stream",
     "text": [
      "\n",
      "td = \n",
      "\n",
      "\u001b[0;33mTrialData: \u001b[0m10 trials (10 valid) with 10 channels\u001b[0m\n",
      "\n",
      "\u001b[0;33mParam: \u001b[0mprotocol, protocolVersion, saveTag, subject, timeStartWallclock, trialId\u001b[0m\n",
      "\u001b[0;33mEvent: \u001b[0mTrialEnd, TrialStart\u001b[0m\n",
      "\u001b[0;33mAnalog: \u001b[0m\u001b[0m\n",
      "\u001b[0;33mSpike: \u001b[0;34mutahA\u001b[0m(5), \u001b[0m\u001b[0mtest01_1\u001b[0m\n",
      "\u001b[0;33mContinuous Neural: \u001b[0m\u001b[0m\n",
      "\u001b[0;33mImage: \u001b[0m\u001b[0m\n",
      "\n"
     ]
    }
   ],
   "source": [
    "td = td.addSpikeChannel('test01_1', spikes(:, 1))"
   ]
  },
  {
   "cell_type": "code",
   "execution_count": 5,
   "metadata": {},
   "outputs": [
    {
     "name": "stdout",
     "output_type": "stream",
     "text": [
      "\n",
      "ans =\n",
      "\n",
      "  6x1 cell array\n",
      "\n",
      "    {'test01_1'  }\n",
      "    {'utahA01_2' }\n",
      "    {'utahA03_4' }\n",
      "    {'utahA05_6' }\n",
      "    {'utahA07_8' }\n",
      "    {'utahA09_10'}\n",
      "\n"
     ]
    }
   ],
   "source": [
    "td.listSpikeChannels"
   ]
  },
  {
   "cell_type": "code",
   "execution_count": 14,
   "metadata": {},
   "outputs": [
    {
     "name": "stderr",
     "output_type": "stream",
     "text": [
      "Error: File: /Users/djoshea/npl/trial-data/TrialData.m Line: 5343 Column: 17\n",
      "Illegal use of reserved keyword \"elseif\".\n",
      "\n"
     ]
    }
   ],
   "source": [
    "td.getSpikeTimes('test01_1')"
   ]
  },
  {
   "cell_type": "code",
   "execution_count": null,
   "metadata": {},
   "outputs": [
    {
     "name": "stderr",
     "output_type": "stream",
     "text": [
      "Not enough input arguments.\n",
      "\n",
      "Error in SpikeChannelArrayDescriptor/buildIndividualSubChannel (line 253)\n",
      "                cd.array, cd.electrodes(uidx), cd.units(uidx));\n",
      "\n",
      "[IPKernelApp] ERROR | Exception in message handler:\n",
      "Traceback (most recent call last):\n",
      "  File \"/Users/djoshea/anaconda3/envs/jupyter/lib/python3.6/site-packages/ipykernel/kernelbase.py\", line 233, in dispatch_shell\n",
      "    handler(stream, idents, msg)\n",
      "  File \"/Users/djoshea/anaconda3/envs/jupyter/lib/python3.6/site-packages/ipykernel/kernelbase.py\", line 399, in execute_request\n",
      "    user_expressions, allow_stdin)\n",
      "  File \"/Users/djoshea/anaconda3/envs/jupyter/lib/python3.6/site-packages/imatlab/_kernel.py\", line 233, in do_execute\n",
      "    raise engine_error\n",
      "  File \"/Users/djoshea/anaconda3/envs/jupyter/lib/python3.6/site-packages/imatlab/_kernel.py\", line 212, in do_execute\n",
      "    self._call(\"eval\", code, nargout=0)\n",
      "  File \"/Users/djoshea/anaconda3/envs/jupyter/lib/python3.6/site-packages/imatlab/_kernel.py\", line 116, in _call\n",
      "    return self._engine.builtin(*args, **kwargs)\n",
      "  File \"/Users/djoshea/anaconda3/envs/jupyter/lib/python3.6/site-packages/matlab/engine/matlabengine.py\", line 71, in __call__\n",
      "    _stderr, feval=True).result()\n",
      "  File \"/Users/djoshea/anaconda3/envs/jupyter/lib/python3.6/site-packages/matlab/engine/futureresult.py\", line 67, in result\n",
      "    return self.__future.result(timeout)\n",
      "  File \"/Users/djoshea/anaconda3/envs/jupyter/lib/python3.6/site-packages/matlab/engine/fevalfuture.py\", line 82, in result\n",
      "    self._result = pythonengine.getFEvalResult(self._future,self._nargout, None, out=self._out, err=self._err)\n",
      "matlab.engine.EngineError: MATLAB function cannot be evaluated\n"
     ]
    }
   ],
   "source": [
    "td.channelDescriptorsByName.utahA.buildIndividualSubChannel"
   ]
  },
  {
   "cell_type": "code",
   "execution_count": null,
   "metadata": {},
   "outputs": [],
   "source": []
  }
 ],
 "metadata": {
  "kernelspec": {
   "display_name": "iMatlab",
   "language": "matlab",
   "name": "imatlab"
  },
  "language_info": {
   "codemirror_mode": "octave",
   "file_extension": ".m",
   "mimetype": "text/x-matlab",
   "name": "matlab",
   "nbconvert_exporter": "imatlab._exporter.MatlabExporter",
   "pygments_lexer": "matlab",
   "version": "9.5.0.944444 (R2018b)"
  }
 },
 "nbformat": 4,
 "nbformat_minor": 2
}
