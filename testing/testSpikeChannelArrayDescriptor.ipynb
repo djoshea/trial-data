{
 "cells": [
  {
   "cell_type": "code",
   "execution_count": 2,
   "metadata": {},
   "outputs": [],
   "source": [
    "addpath ~/npl\n",
    "setupPath"
   ]
  },
  {
   "cell_type": "code",
   "execution_count": 3,
   "metadata": {},
   "outputs": [],
   "source": [
    "imatlab_export_fig('print-png')"
   ]
  },
  {
   "cell_type": "code",
   "execution_count": 4,
   "metadata": {},
   "outputs": [
    {
     "name": "stdout",
     "output_type": "stream",
     "text": []
    }
   ],
   "source": [
    "nTrials = 10;\n",
    "nUnits = 5;\n",
    "T = 100;\n",
    "arrayName = 'utahA';\n",
    "\n",
    "td = TrialData.buildEmptyWithTrialDurations(repmat(T, nTrials, 1));"
   ]
  },
  {
   "cell_type": "code",
   "execution_count": 5,
   "metadata": {},
   "outputs": [],
   "source": [
    "electrodes = 1:2:(nUnits*2)-1;\n",
    "units = 2:2:nUnits*2;\n",
    "spikes = cell(nTrials , nUnits);\n",
    "for i = 1:numel(spikes)\n",
    "    spikes{i} = randi(100,1);\n",
    "end\n",
    "t\n",
    "td = td.addSpikeChannelArray(arrayName, electrodes, units, spikes);"
   ]
  },
  {
   "cell_type": "code",
   "execution_count": 6,
   "metadata": {},
   "outputs": [
    {
     "name": "stdout",
     "output_type": "stream",
     "text": [
      "\n",
      "td = \n",
      "\n",
      "\u001b[0;33mTrialData: \u001b[0m10 trials (10 valid) with 10 channels\u001b[0m\n",
      "\n",
      "\u001b[0;33mParam: \u001b[0mprotocol, protocolVersion, saveTag, subject, timeStartWallclock, trialId\u001b[0m\n",
      "\u001b[0;33mEvent: \u001b[0mTrialEnd, TrialStart\u001b[0m\n",
      "\u001b[0;33mAnalog: \u001b[0m\u001b[0m\n",
      "Reference to non-existent field 'utahA01_2'.\n",
      "\n",
      "Error in TrialData/hasSpikeWaveforms (line 5417)\n",
      "                    wavefield = td.channelDescriptorsByName.(unitName).waveformsField;\n",
      "\n",
      "Error in TrialData/printChannelInfo (line 1034)\n",
      "            hasWaves = td.hasSpikeWaveforms(spikeCh);\n",
      "\n",
      "Error in TrialData/disp (line 1085)\n",
      "            td.printChannelInfo();\n"
     ]
    }
   ],
   "source": [
    "td = td.addSpikeChannel('test01_1', spikes(:, 1))"
   ]
  },
  {
   "cell_type": "code",
   "execution_count": 24,
   "metadata": {},
   "outputs": [
    {
     "name": "stdout",
     "output_type": "stream",
     "text": [
      "\n",
      "cd = \n",
      "\n",
      "  SpikeChannelDescriptor with properties:\n",
      "\n",
      "                   hasWaveforms: 0\n",
      "        hasSortQualityEachTrial: 0\n",
      "             hasBlankingRegions: 0\n",
      "                          array: 'test'\n",
      "                      electrode: 1\n",
      "                           unit: 1\n",
      "                 waveformsField: ''\n",
      "                 waveformsUnits: ''\n",
      "         waveformsScaleFromLims: []\n",
      "           waveformsScaleToLims: []\n",
      "     waveformsOriginalDataClass: ''\n",
      "                  waveformsTime: []\n",
      "      sortQualityEachTrialField: ''\n",
      "           blankingRegionsField: ''\n",
      "                    sortQuality: NaN\n",
      "                     sortMethod: ''\n",
      "                 spikeThreshold: NaN\n",
      "                isColumnOfArray: 0\n",
      "    primaryDataFieldColumnIndex: 1\n",
      "                    description: ''\n",
      "                           meta: []\n",
      "                           name: 'test01_1'\n",
      "                      groupName: ''\n",
      "                        special: 0\n",
      "                       required: 1\n",
      "             elementTypeByField: 3\n",
      "                     dataFields: {'test01_1'}\n",
      "                   unitsByField: {''}\n",
      "       originalDataClassByField: {'double'}\n",
      "        catAlongFirstDimByField: {}\n",
      "                        nFields: 1\n",
      "           collectAsCellByField: 1\n",
      "            missingValueByField: {[]}\n",
      "               isBooleanByField: 0\n",
      "                isStringByField: 0\n",
      "                isVectorByField: 1\n",
      "                isScalarByField: 0\n",
      "             isShareableByField: 0\n",
      "             accessClassByField: {'double'}\n",
      "             memoryClassByField: {'double'}\n",
      "            storageClassByField: {'double'}\n",
      "                   unitsPrimary: ''\n",
      "               dataFieldPrimary: 'test01_1'\n",
      "\n"
     ]
    }
   ],
   "source": [
    "cd = td.channelDescriptorsByName.test01_1"
   ]
  },
  {
   "cell_type": "code",
   "execution_count": 25,
   "metadata": {},
   "outputs": [
    {
     "name": "stdout",
     "output_type": "stream",
     "text": [
      "\n",
      "ans =\n",
      "\n",
      "    'test01_1'\n",
      "\n"
     ]
    }
   ],
   "source": [
    "cd.dataFieldPrimary"
   ]
  },
  {
   "cell_type": "code",
   "execution_count": null,
   "metadata": {},
   "outputs": [
    {
     "name": "stderr",
     "output_type": "stream",
     "text": [
      "Not enough input arguments.\n",
      "\n",
      "Error in SpikeChannelArrayDescriptor/buildIndividualSubChannel (line 253)\n",
      "                cd.array, cd.electrodes(uidx), cd.units(uidx));\n",
      "\n",
      "[IPKernelApp] ERROR | Exception in message handler:\n",
      "Traceback (most recent call last):\n",
      "  File \"/Users/djoshea/anaconda3/envs/jupyter/lib/python3.6/site-packages/ipykernel/kernelbase.py\", line 233, in dispatch_shell\n",
      "    handler(stream, idents, msg)\n",
      "  File \"/Users/djoshea/anaconda3/envs/jupyter/lib/python3.6/site-packages/ipykernel/kernelbase.py\", line 399, in execute_request\n",
      "    user_expressions, allow_stdin)\n",
      "  File \"/Users/djoshea/anaconda3/envs/jupyter/lib/python3.6/site-packages/imatlab/_kernel.py\", line 233, in do_execute\n",
      "    raise engine_error\n",
      "  File \"/Users/djoshea/anaconda3/envs/jupyter/lib/python3.6/site-packages/imatlab/_kernel.py\", line 212, in do_execute\n",
      "    self._call(\"eval\", code, nargout=0)\n",
      "  File \"/Users/djoshea/anaconda3/envs/jupyter/lib/python3.6/site-packages/imatlab/_kernel.py\", line 116, in _call\n",
      "    return self._engine.builtin(*args, **kwargs)\n",
      "  File \"/Users/djoshea/anaconda3/envs/jupyter/lib/python3.6/site-packages/matlab/engine/matlabengine.py\", line 71, in __call__\n",
      "    _stderr, feval=True).result()\n",
      "  File \"/Users/djoshea/anaconda3/envs/jupyter/lib/python3.6/site-packages/matlab/engine/futureresult.py\", line 67, in result\n",
      "    return self.__future.result(timeout)\n",
      "  File \"/Users/djoshea/anaconda3/envs/jupyter/lib/python3.6/site-packages/matlab/engine/fevalfuture.py\", line 82, in result\n",
      "    self._result = pythonengine.getFEvalResult(self._future,self._nargout, None, out=self._out, err=self._err)\n",
      "matlab.engine.EngineError: MATLAB function cannot be evaluated\n"
     ]
    }
   ],
   "source": [
    "td.channelDescriptorsByName.utahA.buildIndividualSubChannel"
   ]
  },
  {
   "cell_type": "code",
   "execution_count": null,
   "metadata": {},
   "outputs": [],
   "source": []
  }
 ],
 "metadata": {
  "kernelspec": {
   "display_name": "iMatlab",
   "language": "matlab",
   "name": "imatlab"
  },
  "language_info": {
   "codemirror_mode": "octave",
   "file_extension": ".m",
   "mimetype": "text/x-matlab",
   "name": "matlab",
   "nbconvert_exporter": "imatlab._exporter.MatlabExporter",
   "pygments_lexer": "matlab",
   "version": "9.5.0.944444 (R2018b)"
  }
 },
 "nbformat": 4,
 "nbformat_minor": 2
}
